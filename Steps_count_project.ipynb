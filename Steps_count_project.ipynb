{
 "cells": [
  {
   "cell_type": "code",
   "execution_count": 133,
   "id": "a90c6fd0",
   "metadata": {},
   "outputs": [],
   "source": [
    "import pandas as pd"
   ]
  },
  {
   "cell_type": "code",
   "execution_count": 134,
   "id": "f68fc134",
   "metadata": {},
   "outputs": [
    {
     "data": {
      "text/html": [
       "<div>\n",
       "<style scoped>\n",
       "    .dataframe tbody tr th:only-of-type {\n",
       "        vertical-align: middle;\n",
       "    }\n",
       "\n",
       "    .dataframe tbody tr th {\n",
       "        vertical-align: top;\n",
       "    }\n",
       "\n",
       "    .dataframe thead th {\n",
       "        text-align: right;\n",
       "    }\n",
       "</style>\n",
       "<table border=\"1\" class=\"dataframe\">\n",
       "  <thead>\n",
       "    <tr style=\"text-align: right;\">\n",
       "      <th></th>\n",
       "      <th>Date</th>\n",
       "      <th>Step Count</th>\n",
       "      <th>Distance Travelled</th>\n",
       "      <th>Active Time</th>\n",
       "      <th>Flights Climbed</th>\n",
       "      <th>Goal</th>\n",
       "      <th>Percentage of Goal Completed</th>\n",
       "      <th>Calories</th>\n",
       "    </tr>\n",
       "  </thead>\n",
       "  <tbody>\n",
       "    <tr>\n",
       "      <th>0</th>\n",
       "      <td>2021-03-17</td>\n",
       "      <td>1500</td>\n",
       "      <td>1.02 km</td>\n",
       "      <td>23:14 min</td>\n",
       "      <td>3</td>\n",
       "      <td>10000</td>\n",
       "      <td>15%</td>\n",
       "      <td>64</td>\n",
       "    </tr>\n",
       "    <tr>\n",
       "      <th>1</th>\n",
       "      <td>2021-03-18</td>\n",
       "      <td>3165</td>\n",
       "      <td>2.23 km</td>\n",
       "      <td>44:56 min</td>\n",
       "      <td>2</td>\n",
       "      <td>10000</td>\n",
       "      <td>32%</td>\n",
       "      <td>134</td>\n",
       "    </tr>\n",
       "    <tr>\n",
       "      <th>2</th>\n",
       "      <td>2021-03-19</td>\n",
       "      <td>1494</td>\n",
       "      <td>1.08 km</td>\n",
       "      <td>24:51 min</td>\n",
       "      <td>0</td>\n",
       "      <td>10000</td>\n",
       "      <td>15%</td>\n",
       "      <td>68</td>\n",
       "    </tr>\n",
       "    <tr>\n",
       "      <th>3</th>\n",
       "      <td>2021-03-20</td>\n",
       "      <td>1808</td>\n",
       "      <td>1.27 km</td>\n",
       "      <td>30:04 min</td>\n",
       "      <td>1</td>\n",
       "      <td>10000</td>\n",
       "      <td>18%</td>\n",
       "      <td>81</td>\n",
       "    </tr>\n",
       "    <tr>\n",
       "      <th>4</th>\n",
       "      <td>2021-03-21</td>\n",
       "      <td>2667</td>\n",
       "      <td>1.78 km</td>\n",
       "      <td>30:57 min</td>\n",
       "      <td>3</td>\n",
       "      <td>10000</td>\n",
       "      <td>27%</td>\n",
       "      <td>103</td>\n",
       "    </tr>\n",
       "  </tbody>\n",
       "</table>\n",
       "</div>"
      ],
      "text/plain": [
       "        Date  Step Count Distance Travelled Active Time  Flights Climbed  \\\n",
       "0 2021-03-17        1500            1.02 km   23:14 min                3   \n",
       "1 2021-03-18        3165            2.23 km   44:56 min                2   \n",
       "2 2021-03-19        1494            1.08 km   24:51 min                0   \n",
       "3 2021-03-20        1808            1.27 km   30:04 min                1   \n",
       "4 2021-03-21        2667            1.78 km   30:57 min                3   \n",
       "\n",
       "    Goal Percentage of Goal Completed  Calories  \n",
       "0  10000                          15%        64  \n",
       "1  10000                          32%       134  \n",
       "2  10000                          15%        68  \n",
       "3  10000                          18%        81  \n",
       "4  10000                          27%       103  "
      ]
     },
     "execution_count": 134,
     "metadata": {},
     "output_type": "execute_result"
    }
   ],
   "source": [
    "df=pd.read_csv(r'C:\\Users\\ella.gorgin\\Dropbox\\Data_Analytics\\Data_sets\\Step_counter\\Steps.csv',parse_dates=[\"Date\"])\n",
    "df.head()"
   ]
  },
  {
   "cell_type": "code",
   "execution_count": 135,
   "id": "4187f4a7",
   "metadata": {},
   "outputs": [
    {
     "data": {
      "text/plain": [
       "(526, 8)"
      ]
     },
     "execution_count": 135,
     "metadata": {},
     "output_type": "execute_result"
    }
   ],
   "source": [
    "df.shape"
   ]
  },
  {
   "cell_type": "code",
   "execution_count": 171,
   "id": "c31f7347",
   "metadata": {},
   "outputs": [
    {
     "data": {
      "text/plain": [
       "(526, 11)"
      ]
     },
     "execution_count": 171,
     "metadata": {},
     "output_type": "execute_result"
    }
   ],
   "source": [
    "df=df.drop_duplicates(keep='first')\n",
    "df.shape"
   ]
  },
  {
   "cell_type": "code",
   "execution_count": 136,
   "id": "7f0c7355",
   "metadata": {
    "scrolled": true
   },
   "outputs": [
    {
     "name": "stdout",
     "output_type": "stream",
     "text": [
      "<class 'pandas.core.frame.DataFrame'>\n",
      "RangeIndex: 526 entries, 0 to 525\n",
      "Data columns (total 8 columns):\n",
      " #   Column                        Non-Null Count  Dtype         \n",
      "---  ------                        --------------  -----         \n",
      " 0   Date                          526 non-null    datetime64[ns]\n",
      " 1   Step Count                    526 non-null    int64         \n",
      " 2   Distance Travelled            526 non-null    object        \n",
      " 3   Active Time                   526 non-null    object        \n",
      " 4   Flights Climbed               526 non-null    int64         \n",
      " 5   Goal                          526 non-null    int64         \n",
      " 6   Percentage of Goal Completed  526 non-null    object        \n",
      " 7   Calories                      526 non-null    int64         \n",
      "dtypes: datetime64[ns](1), int64(4), object(3)\n",
      "memory usage: 33.0+ KB\n"
     ]
    }
   ],
   "source": [
    "df.info()"
   ]
  },
  {
   "cell_type": "code",
   "execution_count": 172,
   "id": "c1b54bbc",
   "metadata": {},
   "outputs": [
    {
     "data": {
      "text/plain": [
       "array([[<AxesSubplot:title={'center':'Date'}>,\n",
       "        <AxesSubplot:title={'center':'Step Count'}>,\n",
       "        <AxesSubplot:title={'center':'Distance Travelled'}>],\n",
       "       [<AxesSubplot:title={'center':'Active Time'}>,\n",
       "        <AxesSubplot:title={'center':'Flights Climbed'}>,\n",
       "        <AxesSubplot:title={'center':'Goal'}>],\n",
       "       [<AxesSubplot:title={'center':'Calories'}>,\n",
       "        <AxesSubplot:title={'center':'day'}>,\n",
       "        <AxesSubplot:title={'center':'month'}>],\n",
       "       [<AxesSubplot:title={'center':'year'}>, <AxesSubplot:>,\n",
       "        <AxesSubplot:>]], dtype=object)"
      ]
     },
     "execution_count": 172,
     "metadata": {},
     "output_type": "execute_result"
    },
    {
     "data": {
      "image/png": "[encoded data removed]",
      "text/plain": [
       "<Figure size 2160x720 with 12 Axes>"
      ]
     },
     "metadata": {
      "needs_background": "light"
     },
     "output_type": "display_data"
    }
   ],
   "source": [
    "df.hist(figsize=(30,10))"
   ]
  },
  {
   "cell_type": "code",
   "execution_count": 137,
   "id": "cd3c199f",
   "metadata": {
    "scrolled": true
   },
   "outputs": [
    {
     "data": {
      "text/plain": [
       "Date                            0\n",
       "Step Count                      0\n",
       "Distance Travelled              0\n",
       "Active Time                     0\n",
       "Flights Climbed                 0\n",
       "Goal                            0\n",
       "Percentage of Goal Completed    0\n",
       "Calories                        0\n",
       "dtype: int64"
      ]
     },
     "execution_count": 137,
     "metadata": {},
     "output_type": "execute_result"
    }
   ],
   "source": [
    "df.isnull().sum()"
   ]
  },
  {
   "cell_type": "markdown",
   "id": "ded6b478",
   "metadata": {},
   "source": [
    "# Active time"
   ]
  },
  {
   "cell_type": "code",
   "execution_count": 138,
   "id": "601432c4",
   "metadata": {},
   "outputs": [],
   "source": [
    "def time_transform(x):\n",
    "    num=x.split(' ')\n",
    "    if num[1] =='min':\n",
    "        a=num[0].split(':')\n",
    "        return(int(a[0]))\n",
    "    else:\n",
    "        a=num[0].split(':')\n",
    "        return(int(a[0])*60+int(a[1]))"
   ]
  },
  {
   "cell_type": "code",
   "execution_count": 139,
   "id": "ad9c8bd5",
   "metadata": {},
   "outputs": [],
   "source": [
    "df['Active Time']=df['Active Time'].apply(time_transform)"
   ]
  },
  {
   "cell_type": "code",
   "execution_count": 140,
   "id": "565c6013",
   "metadata": {},
   "outputs": [
    {
     "data": {
      "text/plain": [
       "0    23\n",
       "1    44\n",
       "2    24\n",
       "3    30\n",
       "4    30\n",
       "Name: Active Time, dtype: int64"
      ]
     },
     "execution_count": 140,
     "metadata": {},
     "output_type": "execute_result"
    }
   ],
   "source": [
    "df['Active Time'].head()"
   ]
  },
  {
   "cell_type": "code",
   "execution_count": 141,
   "id": "87c803c8",
   "metadata": {},
   "outputs": [
    {
     "data": {
      "text/plain": [
       "0"
      ]
     },
     "execution_count": 141,
     "metadata": {},
     "output_type": "execute_result"
    }
   ],
   "source": [
    "df['Active Time'].min()"
   ]
  },
  {
   "cell_type": "code",
   "execution_count": 142,
   "id": "5d52422f",
   "metadata": {},
   "outputs": [
    {
     "data": {
      "text/plain": [
       "255"
      ]
     },
     "execution_count": 142,
     "metadata": {},
     "output_type": "execute_result"
    }
   ],
   "source": [
    "df['Active Time'].max()"
   ]
  },
  {
   "cell_type": "code",
   "execution_count": 143,
   "id": "e037c9e8",
   "metadata": {},
   "outputs": [],
   "source": [
    "df['Active Time']=df['Active Time'].astype(float)"
   ]
  },
  {
   "cell_type": "markdown",
   "id": "a97e66d1",
   "metadata": {},
   "source": [
    "# Goal"
   ]
  },
  {
   "cell_type": "code",
   "execution_count": 144,
   "id": "9d772577",
   "metadata": {},
   "outputs": [
    {
     "data": {
      "text/plain": [
       "Goal\n",
       "3500     467\n",
       "10000     59\n",
       "Name: Goal, dtype: int64"
      ]
     },
     "execution_count": 144,
     "metadata": {},
     "output_type": "execute_result"
    }
   ],
   "source": [
    "df.groupby('Goal')['Goal'].aggregate('count')"
   ]
  },
  {
   "cell_type": "code",
   "execution_count": 145,
   "id": "95be7675",
   "metadata": {},
   "outputs": [],
   "source": [
    "replace_values_steps ={3500 :0, 10000 :1}\n",
    "df=df.replace({\"Goal\": replace_values_steps})"
   ]
  },
  {
   "cell_type": "code",
   "execution_count": 146,
   "id": "574cf096",
   "metadata": {},
   "outputs": [
    {
     "data": {
      "text/plain": [
       "Goal\n",
       "0    467\n",
       "1     59\n",
       "Name: Goal, dtype: int64"
      ]
     },
     "execution_count": 146,
     "metadata": {},
     "output_type": "execute_result"
    }
   ],
   "source": [
    "df.groupby('Goal')['Goal'].aggregate('count')"
   ]
  },
  {
   "cell_type": "markdown",
   "id": "65bde40a",
   "metadata": {},
   "source": [
    "# Distance Travelled"
   ]
  },
  {
   "cell_type": "code",
   "execution_count": 147,
   "id": "9da51a07",
   "metadata": {},
   "outputs": [
    {
     "data": {
      "text/plain": [
       "0    1.02\n",
       "1    2.23\n",
       "2    1.08\n",
       "3    1.27\n",
       "4    1.78\n",
       "Name: Distance Travelled, dtype: object"
      ]
     },
     "execution_count": 147,
     "metadata": {},
     "output_type": "execute_result"
    }
   ],
   "source": [
    "df['Distance Travelled']=df['Distance Travelled'].apply(lambda x: x.split(' ')[0])\n",
    "df['Distance Travelled'].head()"
   ]
  },
  {
   "cell_type": "code",
   "execution_count": 148,
   "id": "d5094fbe",
   "metadata": {},
   "outputs": [],
   "source": [
    "df['Distance Travelled']=df['Distance Travelled'].astype(float)"
   ]
  },
  {
   "cell_type": "markdown",
   "id": "4c11082b",
   "metadata": {},
   "source": [
    "# Date"
   ]
  },
  {
   "cell_type": "code",
   "execution_count": 149,
   "id": "707cf68b",
   "metadata": {},
   "outputs": [],
   "source": [
    "df['day'] = df['Date'].map(lambda x: x.day)\n",
    "df['month'] = df['Date'].map(lambda x: x.month)\n",
    "df['year'] = df['Date'].map(lambda x: x.year)"
   ]
  },
  {
   "cell_type": "code",
   "execution_count": 150,
   "id": "8521155c",
   "metadata": {},
   "outputs": [
    {
     "data": {
      "text/html": [
       "<div>\n",
       "<style scoped>\n",
       "    .dataframe tbody tr th:only-of-type {\n",
       "        vertical-align: middle;\n",
       "    }\n",
       "\n",
       "    .dataframe tbody tr th {\n",
       "        vertical-align: top;\n",
       "    }\n",
       "\n",
       "    .dataframe thead th {\n",
       "        text-align: right;\n",
       "    }\n",
       "</style>\n",
       "<table border=\"1\" class=\"dataframe\">\n",
       "  <thead>\n",
       "    <tr style=\"text-align: right;\">\n",
       "      <th></th>\n",
       "      <th>Date</th>\n",
       "      <th>Step Count</th>\n",
       "      <th>Distance Travelled</th>\n",
       "      <th>Active Time</th>\n",
       "      <th>Flights Climbed</th>\n",
       "      <th>Goal</th>\n",
       "      <th>Percentage of Goal Completed</th>\n",
       "      <th>Calories</th>\n",
       "      <th>day</th>\n",
       "      <th>month</th>\n",
       "      <th>year</th>\n",
       "    </tr>\n",
       "  </thead>\n",
       "  <tbody>\n",
       "    <tr>\n",
       "      <th>0</th>\n",
       "      <td>2021-03-17</td>\n",
       "      <td>1500</td>\n",
       "      <td>1.02</td>\n",
       "      <td>23.0</td>\n",
       "      <td>3</td>\n",
       "      <td>1</td>\n",
       "      <td>15%</td>\n",
       "      <td>64</td>\n",
       "      <td>17</td>\n",
       "      <td>3</td>\n",
       "      <td>2021</td>\n",
       "    </tr>\n",
       "    <tr>\n",
       "      <th>1</th>\n",
       "      <td>2021-03-18</td>\n",
       "      <td>3165</td>\n",
       "      <td>2.23</td>\n",
       "      <td>44.0</td>\n",
       "      <td>2</td>\n",
       "      <td>1</td>\n",
       "      <td>32%</td>\n",
       "      <td>134</td>\n",
       "      <td>18</td>\n",
       "      <td>3</td>\n",
       "      <td>2021</td>\n",
       "    </tr>\n",
       "    <tr>\n",
       "      <th>2</th>\n",
       "      <td>2021-03-19</td>\n",
       "      <td>1494</td>\n",
       "      <td>1.08</td>\n",
       "      <td>24.0</td>\n",
       "      <td>0</td>\n",
       "      <td>1</td>\n",
       "      <td>15%</td>\n",
       "      <td>68</td>\n",
       "      <td>19</td>\n",
       "      <td>3</td>\n",
       "      <td>2021</td>\n",
       "    </tr>\n",
       "    <tr>\n",
       "      <th>3</th>\n",
       "      <td>2021-03-20</td>\n",
       "      <td>1808</td>\n",
       "      <td>1.27</td>\n",
       "      <td>30.0</td>\n",
       "      <td>1</td>\n",
       "      <td>1</td>\n",
       "      <td>18%</td>\n",
       "      <td>81</td>\n",
       "      <td>20</td>\n",
       "      <td>3</td>\n",
       "      <td>2021</td>\n",
       "    </tr>\n",
       "    <tr>\n",
       "      <th>4</th>\n",
       "      <td>2021-03-21</td>\n",
       "      <td>2667</td>\n",
       "      <td>1.78</td>\n",
       "      <td>30.0</td>\n",
       "      <td>3</td>\n",
       "      <td>1</td>\n",
       "      <td>27%</td>\n",
       "      <td>103</td>\n",
       "      <td>21</td>\n",
       "      <td>3</td>\n",
       "      <td>2021</td>\n",
       "    </tr>\n",
       "  </tbody>\n",
       "</table>\n",
       "</div>"
      ],
      "text/plain": [
       "        Date  Step Count  Distance Travelled  Active Time  Flights Climbed  \\\n",
       "0 2021-03-17        1500                1.02         23.0                3   \n",
       "1 2021-03-18        3165                2.23         44.0                2   \n",
       "2 2021-03-19        1494                1.08         24.0                0   \n",
       "3 2021-03-20        1808                1.27         30.0                1   \n",
       "4 2021-03-21        2667                1.78         30.0                3   \n",
       "\n",
       "   Goal Percentage of Goal Completed  Calories  day  month  year  \n",
       "0     1                          15%        64   17      3  2021  \n",
       "1     1                          32%       134   18      3  2021  \n",
       "2     1                          15%        68   19      3  2021  \n",
       "3     1                          18%        81   20      3  2021  \n",
       "4     1                          27%       103   21      3  2021  "
      ]
     },
     "execution_count": 150,
     "metadata": {},
     "output_type": "execute_result"
    }
   ],
   "source": [
    "df.head()"
   ]
  },
  {
   "cell_type": "markdown",
   "id": "034bdedc",
   "metadata": {},
   "source": [
    "# Percentage of Goal Completed"
   ]
  },
  {
   "cell_type": "code",
   "execution_count": 151,
   "id": "e631c7db",
   "metadata": {},
   "outputs": [],
   "source": [
    "df['Percentage of Goal Completed']=df['Percentage of Goal Completed'].apply(lambda x: x.replace(\"%\", \"\"))"
   ]
  },
  {
   "cell_type": "code",
   "execution_count": 152,
   "id": "443ccb48",
   "metadata": {},
   "outputs": [
    {
     "data": {
      "text/plain": [
       "0       15\n",
       "1       32\n",
       "2       15\n",
       "3       18\n",
       "4       27\n",
       "      ... \n",
       "521     48\n",
       "522    105\n",
       "523     13\n",
       "524     14\n",
       "525      4\n",
       "Name: Percentage of Goal Completed, Length: 526, dtype: int32"
      ]
     },
     "execution_count": 152,
     "metadata": {},
     "output_type": "execute_result"
    }
   ],
   "source": [
    "df['Percentage of Goal Completed'].astype(int)"
   ]
  },
  {
   "cell_type": "code",
   "execution_count": 153,
   "id": "d0c9d95e",
   "metadata": {},
   "outputs": [
    {
     "data": {
      "text/plain": [
       "'99'"
      ]
     },
     "execution_count": 153,
     "metadata": {},
     "output_type": "execute_result"
    }
   ],
   "source": [
    "df['Percentage of Goal Completed'].max()"
   ]
  },
  {
   "cell_type": "markdown",
   "id": "fc208c9c",
   "metadata": {},
   "source": [
    "# Modeling"
   ]
  },
  {
   "cell_type": "code",
   "execution_count": 154,
   "id": "910aa3df",
   "metadata": {},
   "outputs": [
    {
     "name": "stdout",
     "output_type": "stream",
     "text": [
      "<class 'pandas.core.frame.DataFrame'>\n",
      "RangeIndex: 526 entries, 0 to 525\n",
      "Data columns (total 11 columns):\n",
      " #   Column                        Non-Null Count  Dtype         \n",
      "---  ------                        --------------  -----         \n",
      " 0   Date                          526 non-null    datetime64[ns]\n",
      " 1   Step Count                    526 non-null    int64         \n",
      " 2   Distance Travelled            526 non-null    float64       \n",
      " 3   Active Time                   526 non-null    float64       \n",
      " 4   Flights Climbed               526 non-null    int64         \n",
      " 5   Goal                          526 non-null    int64         \n",
      " 6   Percentage of Goal Completed  526 non-null    object        \n",
      " 7   Calories                      526 non-null    int64         \n",
      " 8   day                           526 non-null    int64         \n",
      " 9   month                         526 non-null    int64         \n",
      " 10  year                          526 non-null    int64         \n",
      "dtypes: datetime64[ns](1), float64(2), int64(7), object(1)\n",
      "memory usage: 45.3+ KB\n"
     ]
    }
   ],
   "source": [
    "df.info()"
   ]
  },
  {
   "cell_type": "code",
   "execution_count": 162,
   "id": "409a36ff",
   "metadata": {},
   "outputs": [],
   "source": [
    "X = df.drop(['Calories','Date'], axis='columns')"
   ]
  },
  {
   "cell_type": "code",
   "execution_count": 163,
   "id": "6a342fe0",
   "metadata": {},
   "outputs": [],
   "source": [
    "y= df['Calories']"
   ]
  },
  {
   "cell_type": "code",
   "execution_count": 164,
   "id": "43cf5439",
   "metadata": {},
   "outputs": [],
   "source": [
    "from sklearn.model_selection import train_test_split"
   ]
  },
  {
   "cell_type": "code",
   "execution_count": 165,
   "id": "c36afec9",
   "metadata": {},
   "outputs": [],
   "source": [
    "X_train, X_test, y_train, y_test = train_test_split(X, y, test_size=0.2) "
   ]
  },
  {
   "cell_type": "code",
   "execution_count": 166,
   "id": "4eb1ebd8",
   "metadata": {},
   "outputs": [],
   "source": [
    "from sklearn.ensemble import RandomForestRegressor"
   ]
  },
  {
   "cell_type": "code",
   "execution_count": 167,
   "id": "c2e141a9",
   "metadata": {},
   "outputs": [],
   "source": [
    "Model = RandomForestRegressor()"
   ]
  },
  {
   "cell_type": "code",
   "execution_count": 168,
   "id": "eaeb4bfa",
   "metadata": {},
   "outputs": [
    {
     "data": {
      "text/html": [
       "<style>#sk-container-id-1 {color: black;background-color: white;}#sk-container-id-1 pre{padding: 0;}#sk-container-id-1 div.sk-toggleable {background-color: white;}#sk-container-id-1 label.sk-toggleable__label {cursor: pointer;display: block;width: 100%;margin-bottom: 0;padding: 0.3em;box-sizing: border-box;text-align: center;}#sk-container-id-1 label.sk-toggleable__label-arrow:before {content: \"▸\";float: left;margin-right: 0.25em;color: #696969;}#sk-container-id-1 label.sk-toggleable__label-arrow:hover:before {color: black;}#sk-container-id-1 div.sk-estimator:hover label.sk-toggleable__label-arrow:before {color: black;}#sk-container-id-1 div.sk-toggleable__content {max-height: 0;max-width: 0;overflow: hidden;text-align: left;background-color: #f0f8ff;}#sk-container-id-1 div.sk-toggleable__content pre {margin: 0.2em;color: black;border-radius: 0.25em;background-color: #f0f8ff;}#sk-container-id-1 input.sk-toggleable__control:checked~div.sk-toggleable__content {max-height: 200px;max-width: 100%;overflow: auto;}#sk-container-id-1 input.sk-toggleable__control:checked~label.sk-toggleable__label-arrow:before {content: \"▾\";}#sk-container-id-1 div.sk-estimator input.sk-toggleable__control:checked~label.sk-toggleable__label {background-color: #d4ebff;}#sk-container-id-1 div.sk-label input.sk-toggleable__control:checked~label.sk-toggleable__label {background-color: #d4ebff;}#sk-container-id-1 input.sk-hidden--visually {border: 0;clip: rect(1px 1px 1px 1px);clip: rect(1px, 1px, 1px, 1px);height: 1px;margin: -1px;overflow: hidden;padding: 0;position: absolute;width: 1px;}#sk-container-id-1 div.sk-estimator {font-family: monospace;background-color: #f0f8ff;border: 1px dotted black;border-radius: 0.25em;box-sizing: border-box;margin-bottom: 0.5em;}#sk-container-id-1 div.sk-estimator:hover {background-color: #d4ebff;}#sk-container-id-1 div.sk-parallel-item::after {content: \"\";width: 100%;border-bottom: 1px solid gray;flex-grow: 1;}#sk-container-id-1 div.sk-label:hover label.sk-toggleable__label {background-color: #d4ebff;}#sk-container-id-1 div.sk-serial::before {content: \"\";position: absolute;border-left: 1px solid gray;box-sizing: border-box;top: 0;bottom: 0;left: 50%;z-index: 0;}#sk-container-id-1 div.sk-serial {display: flex;flex-direction: column;align-items: center;background-color: white;padding-right: 0.2em;padding-left: 0.2em;position: relative;}#sk-container-id-1 div.sk-item {position: relative;z-index: 1;}#sk-container-id-1 div.sk-parallel {display: flex;align-items: stretch;justify-content: center;background-color: white;position: relative;}#sk-container-id-1 div.sk-item::before, #sk-container-id-1 div.sk-parallel-item::before {content: \"\";position: absolute;border-left: 1px solid gray;box-sizing: border-box;top: 0;bottom: 0;left: 50%;z-index: -1;}#sk-container-id-1 div.sk-parallel-item {display: flex;flex-direction: column;z-index: 1;position: relative;background-color: white;}#sk-container-id-1 div.sk-parallel-item:first-child::after {align-self: flex-end;width: 50%;}#sk-container-id-1 div.sk-parallel-item:last-child::after {align-self: flex-start;width: 50%;}#sk-container-id-1 div.sk-parallel-item:only-child::after {width: 0;}#sk-container-id-1 div.sk-dashed-wrapped {border: 1px dashed gray;margin: 0 0.4em 0.5em 0.4em;box-sizing: border-box;padding-bottom: 0.4em;background-color: white;}#sk-container-id-1 div.sk-label label {font-family: monospace;font-weight: bold;display: inline-block;line-height: 1.2em;}#sk-container-id-1 div.sk-label-container {text-align: center;}#sk-container-id-1 div.sk-container {/* jupyter's `normalize.less` sets `[hidden] { display: none; }` but bootstrap.min.css set `[hidden] { display: none !important; }` so we also need the `!important` here to be able to override the default hidden behavior on the sphinx rendered scikit-learn.org. See: https://github.com/scikit-learn/scikit-learn/issues/21755 */display: inline-block !important;position: relative;}#sk-container-id-1 div.sk-text-repr-fallback {display: none;}</style><div id=\"sk-container-id-1\" class=\"sk-top-container\"><div class=\"sk-text-repr-fallback\"><pre>RandomForestRegressor()</pre><b>In a Jupyter environment, please rerun this cell to show the HTML representation or trust the notebook. <br />On GitHub, the HTML representation is unable to render, please try loading this page with nbviewer.org.</b></div><div class=\"sk-container\" hidden><div class=\"sk-item\"><div class=\"sk-estimator sk-toggleable\"><input class=\"sk-toggleable__control sk-hidden--visually\" id=\"sk-estimator-id-1\" type=\"checkbox\" checked><label for=\"sk-estimator-id-1\" class=\"sk-toggleable__label sk-toggleable__label-arrow\">RandomForestRegressor</label><div class=\"sk-toggleable__content\"><pre>RandomForestRegressor()</pre></div></div></div></div></div>"
      ],
      "text/plain": [
       "RandomForestRegressor()"
      ]
     },
     "execution_count": 168,
     "metadata": {},
     "output_type": "execute_result"
    }
   ],
   "source": [
    "Model.fit(X_train, y_train)"
   ]
  },
  {
   "cell_type": "code",
   "execution_count": 170,
   "id": "b165658b",
   "metadata": {},
   "outputs": [
    {
     "data": {
      "text/plain": [
       "0.997882782437107"
      ]
     },
     "execution_count": 170,
     "metadata": {},
     "output_type": "execute_result"
    }
   ],
   "source": [
    "Model.score(X_test, y_test)"
   ]
  },
  {
   "cell_type": "code",
   "execution_count": null,
   "id": "97087c6f",
   "metadata": {},
   "outputs": [],
   "source": []
  }
 ],
 "metadata": {
  "kernelspec": {
   "display_name": "Python 3 (ipykernel)",
   "language": "python",
   "name": "python3"
  },
  "language_info": {
   "codemirror_mode": {
    "name": "ipython",
    "version": 3
   },
   "file_extension": ".py",
   "mimetype": "text/x-python",
   "name": "python",
   "nbconvert_exporter": "python",
   "pygments_lexer": "ipython3",
   "version": "3.9.7"
  }
 },
 "nbformat": 4,
 "nbformat_minor": 5
}
